{
    "metadata": {
        "kernelspec": {
            "name": "SQL",
            "display_name": "SQL",
            "language": "sql"
        },
        "language_info": {
            "name": "sql",
            "version": ""
        }
    },
    "nbformat_minor": 2,
    "nbformat": 4,
    "cells": [
        {
            "cell_type": "markdown",
            "source": [
                "# Simple queries have (up to) 2 tables joined. Table or view."
            ],
            "metadata": {
                "azdata_cell_guid": "1ad05f22-ba1d-44ab-8a17-4d690bbb2fbb"
            },
            "attachments": {}
        },
        {
            "cell_type": "markdown",
            "source": [
                "## AdventureWorks 2017\n",
                "\n",
                "Proposition: **Return the 100 fastest fully completed work orders.**"
            ],
            "metadata": {
                "azdata_cell_guid": "e7effb34-a76a-4625-87ad-96b910867567"
            },
            "attachments": {}
        },
        {
            "cell_type": "code",
            "source": [
                "use AdventureWorks2017\n",
                "\n",
                "select top 100 WorkOrderID as workorderid,\n",
                "    datediff(day, StartDate, EndDate) as dayselapsed\n",
                "from Production.[WorkOrder]\n",
                "where OrderQty = StockedQty\n",
                "order by daysElapsed asc, workorderid asc"
            ],
            "metadata": {
                "azdata_cell_guid": "977405ec-33d6-4b23-a7ee-ce70ece1431d",
                "language": "sql",
                "tags": []
            },
            "outputs": [
                {
                    "output_type": "display_data",
                    "data": {
                        "text/html": "(100 rows affected)"
                    },
                    "metadata": {}
                },
                {
                    "output_type": "display_data",
                    "data": {
                        "text/html": "Total execution time: 00:00:00.056"
                    },
                    "metadata": {}
                },
                {
                    "output_type": "execute_result",
                    "metadata": {},
                    "execution_count": 15,
                    "data": {
                        "application/vnd.dataresource+json": {
                            "schema": {
                                "fields": [
                                    {
                                        "name": "workorderid"
                                    },
                                    {
                                        "name": "dayselapsed"
                                    }
                                ]
                            },
                            "data": [
                                {
                                    "0": "1",
                                    "1": "10"
                                },
                                {
                                    "0": "2",
                                    "1": "10"
                                },
                                {
                                    "0": "3",
                                    "1": "10"
                                },
                                {
                                    "0": "4",
                                    "1": "10"
                                },
                                {
                                    "0": "5",
                                    "1": "10"
                                },
                                {
                                    "0": "6",
                                    "1": "10"
                                },
                                {
                                    "0": "7",
                                    "1": "10"
                                },
                                {
                                    "0": "8",
                                    "1": "10"
                                },
                                {
                                    "0": "9",
                                    "1": "10"
                                },
                                {
                                    "0": "10",
                                    "1": "10"
                                },
                                {
                                    "0": "11",
                                    "1": "10"
                                },
                                {
                                    "0": "12",
                                    "1": "10"
                                },
                                {
                                    "0": "43",
                                    "1": "10"
                                },
                                {
                                    "0": "44",
                                    "1": "10"
                                },
                                {
                                    "0": "45",
                                    "1": "10"
                                },
                                {
                                    "0": "46",
                                    "1": "10"
                                },
                                {
                                    "0": "47",
                                    "1": "10"
                                },
                                {
                                    "0": "48",
                                    "1": "10"
                                },
                                {
                                    "0": "49",
                                    "1": "10"
                                },
                                {
                                    "0": "50",
                                    "1": "10"
                                },
                                {
                                    "0": "51",
                                    "1": "10"
                                },
                                {
                                    "0": "52",
                                    "1": "10"
                                },
                                {
                                    "0": "53",
                                    "1": "10"
                                },
                                {
                                    "0": "54",
                                    "1": "10"
                                },
                                {
                                    "0": "55",
                                    "1": "10"
                                },
                                {
                                    "0": "56",
                                    "1": "10"
                                },
                                {
                                    "0": "57",
                                    "1": "10"
                                },
                                {
                                    "0": "58",
                                    "1": "10"
                                },
                                {
                                    "0": "59",
                                    "1": "10"
                                },
                                {
                                    "0": "60",
                                    "1": "10"
                                },
                                {
                                    "0": "61",
                                    "1": "10"
                                },
                                {
                                    "0": "62",
                                    "1": "10"
                                },
                                {
                                    "0": "63",
                                    "1": "10"
                                },
                                {
                                    "0": "64",
                                    "1": "10"
                                },
                                {
                                    "0": "88",
                                    "1": "10"
                                },
                                {
                                    "0": "89",
                                    "1": "10"
                                },
                                {
                                    "0": "90",
                                    "1": "10"
                                },
                                {
                                    "0": "92",
                                    "1": "10"
                                },
                                {
                                    "0": "93",
                                    "1": "10"
                                },
                                {
                                    "0": "94",
                                    "1": "10"
                                },
                                {
                                    "0": "95",
                                    "1": "10"
                                },
                                {
                                    "0": "96",
                                    "1": "10"
                                },
                                {
                                    "0": "97",
                                    "1": "10"
                                },
                                {
                                    "0": "98",
                                    "1": "10"
                                },
                                {
                                    "0": "99",
                                    "1": "10"
                                },
                                {
                                    "0": "100",
                                    "1": "10"
                                },
                                {
                                    "0": "104",
                                    "1": "10"
                                },
                                {
                                    "0": "105",
                                    "1": "10"
                                },
                                {
                                    "0": "106",
                                    "1": "10"
                                },
                                {
                                    "0": "107",
                                    "1": "10"
                                },
                                {
                                    "0": "114",
                                    "1": "10"
                                },
                                {
                                    "0": "115",
                                    "1": "10"
                                },
                                {
                                    "0": "116",
                                    "1": "10"
                                },
                                {
                                    "0": "129",
                                    "1": "10"
                                },
                                {
                                    "0": "130",
                                    "1": "10"
                                },
                                {
                                    "0": "131",
                                    "1": "10"
                                },
                                {
                                    "0": "132",
                                    "1": "10"
                                },
                                {
                                    "0": "133",
                                    "1": "10"
                                },
                                {
                                    "0": "134",
                                    "1": "10"
                                },
                                {
                                    "0": "135",
                                    "1": "10"
                                },
                                {
                                    "0": "136",
                                    "1": "10"
                                },
                                {
                                    "0": "137",
                                    "1": "10"
                                },
                                {
                                    "0": "138",
                                    "1": "10"
                                },
                                {
                                    "0": "139",
                                    "1": "10"
                                },
                                {
                                    "0": "140",
                                    "1": "10"
                                },
                                {
                                    "0": "142",
                                    "1": "10"
                                },
                                {
                                    "0": "143",
                                    "1": "10"
                                },
                                {
                                    "0": "144",
                                    "1": "10"
                                },
                                {
                                    "0": "145",
                                    "1": "10"
                                },
                                {
                                    "0": "152",
                                    "1": "10"
                                },
                                {
                                    "0": "153",
                                    "1": "10"
                                },
                                {
                                    "0": "154",
                                    "1": "10"
                                },
                                {
                                    "0": "155",
                                    "1": "10"
                                },
                                {
                                    "0": "170",
                                    "1": "10"
                                },
                                {
                                    "0": "171",
                                    "1": "10"
                                },
                                {
                                    "0": "172",
                                    "1": "10"
                                },
                                {
                                    "0": "173",
                                    "1": "10"
                                },
                                {
                                    "0": "174",
                                    "1": "10"
                                },
                                {
                                    "0": "175",
                                    "1": "10"
                                },
                                {
                                    "0": "176",
                                    "1": "10"
                                },
                                {
                                    "0": "177",
                                    "1": "10"
                                },
                                {
                                    "0": "178",
                                    "1": "10"
                                },
                                {
                                    "0": "179",
                                    "1": "10"
                                },
                                {
                                    "0": "180",
                                    "1": "10"
                                },
                                {
                                    "0": "181",
                                    "1": "10"
                                },
                                {
                                    "0": "184",
                                    "1": "10"
                                },
                                {
                                    "0": "185",
                                    "1": "10"
                                },
                                {
                                    "0": "186",
                                    "1": "10"
                                },
                                {
                                    "0": "187",
                                    "1": "10"
                                },
                                {
                                    "0": "191",
                                    "1": "10"
                                },
                                {
                                    "0": "192",
                                    "1": "10"
                                },
                                {
                                    "0": "201",
                                    "1": "10"
                                },
                                {
                                    "0": "202",
                                    "1": "10"
                                },
                                {
                                    "0": "203",
                                    "1": "10"
                                },
                                {
                                    "0": "204",
                                    "1": "10"
                                },
                                {
                                    "0": "205",
                                    "1": "10"
                                },
                                {
                                    "0": "206",
                                    "1": "10"
                                },
                                {
                                    "0": "207",
                                    "1": "10"
                                },
                                {
                                    "0": "208",
                                    "1": "10"
                                },
                                {
                                    "0": "209",
                                    "1": "10"
                                }
                            ]
                        },
                        "text/html": [
                            "<table>",
                            "<tr><th>workorderid</th><th>dayselapsed</th></tr>",
                            "<tr><td>1</td><td>10</td></tr>",
                            "<tr><td>2</td><td>10</td></tr>",
                            "<tr><td>3</td><td>10</td></tr>",
                            "<tr><td>4</td><td>10</td></tr>",
                            "<tr><td>5</td><td>10</td></tr>",
                            "<tr><td>6</td><td>10</td></tr>",
                            "<tr><td>7</td><td>10</td></tr>",
                            "<tr><td>8</td><td>10</td></tr>",
                            "<tr><td>9</td><td>10</td></tr>",
                            "<tr><td>10</td><td>10</td></tr>",
                            "<tr><td>11</td><td>10</td></tr>",
                            "<tr><td>12</td><td>10</td></tr>",
                            "<tr><td>43</td><td>10</td></tr>",
                            "<tr><td>44</td><td>10</td></tr>",
                            "<tr><td>45</td><td>10</td></tr>",
                            "<tr><td>46</td><td>10</td></tr>",
                            "<tr><td>47</td><td>10</td></tr>",
                            "<tr><td>48</td><td>10</td></tr>",
                            "<tr><td>49</td><td>10</td></tr>",
                            "<tr><td>50</td><td>10</td></tr>",
                            "<tr><td>51</td><td>10</td></tr>",
                            "<tr><td>52</td><td>10</td></tr>",
                            "<tr><td>53</td><td>10</td></tr>",
                            "<tr><td>54</td><td>10</td></tr>",
                            "<tr><td>55</td><td>10</td></tr>",
                            "<tr><td>56</td><td>10</td></tr>",
                            "<tr><td>57</td><td>10</td></tr>",
                            "<tr><td>58</td><td>10</td></tr>",
                            "<tr><td>59</td><td>10</td></tr>",
                            "<tr><td>60</td><td>10</td></tr>",
                            "<tr><td>61</td><td>10</td></tr>",
                            "<tr><td>62</td><td>10</td></tr>",
                            "<tr><td>63</td><td>10</td></tr>",
                            "<tr><td>64</td><td>10</td></tr>",
                            "<tr><td>88</td><td>10</td></tr>",
                            "<tr><td>89</td><td>10</td></tr>",
                            "<tr><td>90</td><td>10</td></tr>",
                            "<tr><td>92</td><td>10</td></tr>",
                            "<tr><td>93</td><td>10</td></tr>",
                            "<tr><td>94</td><td>10</td></tr>",
                            "<tr><td>95</td><td>10</td></tr>",
                            "<tr><td>96</td><td>10</td></tr>",
                            "<tr><td>97</td><td>10</td></tr>",
                            "<tr><td>98</td><td>10</td></tr>",
                            "<tr><td>99</td><td>10</td></tr>",
                            "<tr><td>100</td><td>10</td></tr>",
                            "<tr><td>104</td><td>10</td></tr>",
                            "<tr><td>105</td><td>10</td></tr>",
                            "<tr><td>106</td><td>10</td></tr>",
                            "<tr><td>107</td><td>10</td></tr>",
                            "<tr><td>114</td><td>10</td></tr>",
                            "<tr><td>115</td><td>10</td></tr>",
                            "<tr><td>116</td><td>10</td></tr>",
                            "<tr><td>129</td><td>10</td></tr>",
                            "<tr><td>130</td><td>10</td></tr>",
                            "<tr><td>131</td><td>10</td></tr>",
                            "<tr><td>132</td><td>10</td></tr>",
                            "<tr><td>133</td><td>10</td></tr>",
                            "<tr><td>134</td><td>10</td></tr>",
                            "<tr><td>135</td><td>10</td></tr>",
                            "<tr><td>136</td><td>10</td></tr>",
                            "<tr><td>137</td><td>10</td></tr>",
                            "<tr><td>138</td><td>10</td></tr>",
                            "<tr><td>139</td><td>10</td></tr>",
                            "<tr><td>140</td><td>10</td></tr>",
                            "<tr><td>142</td><td>10</td></tr>",
                            "<tr><td>143</td><td>10</td></tr>",
                            "<tr><td>144</td><td>10</td></tr>",
                            "<tr><td>145</td><td>10</td></tr>",
                            "<tr><td>152</td><td>10</td></tr>",
                            "<tr><td>153</td><td>10</td></tr>",
                            "<tr><td>154</td><td>10</td></tr>",
                            "<tr><td>155</td><td>10</td></tr>",
                            "<tr><td>170</td><td>10</td></tr>",
                            "<tr><td>171</td><td>10</td></tr>",
                            "<tr><td>172</td><td>10</td></tr>",
                            "<tr><td>173</td><td>10</td></tr>",
                            "<tr><td>174</td><td>10</td></tr>",
                            "<tr><td>175</td><td>10</td></tr>",
                            "<tr><td>176</td><td>10</td></tr>",
                            "<tr><td>177</td><td>10</td></tr>",
                            "<tr><td>178</td><td>10</td></tr>",
                            "<tr><td>179</td><td>10</td></tr>",
                            "<tr><td>180</td><td>10</td></tr>",
                            "<tr><td>181</td><td>10</td></tr>",
                            "<tr><td>184</td><td>10</td></tr>",
                            "<tr><td>185</td><td>10</td></tr>",
                            "<tr><td>186</td><td>10</td></tr>",
                            "<tr><td>187</td><td>10</td></tr>",
                            "<tr><td>191</td><td>10</td></tr>",
                            "<tr><td>192</td><td>10</td></tr>",
                            "<tr><td>201</td><td>10</td></tr>",
                            "<tr><td>202</td><td>10</td></tr>",
                            "<tr><td>203</td><td>10</td></tr>",
                            "<tr><td>204</td><td>10</td></tr>",
                            "<tr><td>205</td><td>10</td></tr>",
                            "<tr><td>206</td><td>10</td></tr>",
                            "<tr><td>207</td><td>10</td></tr>",
                            "<tr><td>208</td><td>10</td></tr>",
                            "<tr><td>209</td><td>10</td></tr>",
                            "</table>"
                        ]
                    }
                }
            ],
            "execution_count": 15
        },
        {
            "cell_type": "markdown",
            "source": [
                "## AdventureWorksDW2017\n",
                "\n",
                "Proposition: **Return the alternate key and product name of unique products sold in internet sales.**"
            ],
            "metadata": {
                "azdata_cell_guid": "b1859510-6900-49f5-810e-43224d3e6caf"
            },
            "attachments": {}
        },
        {
            "cell_type": "code",
            "source": [
                "use AdventureWorksDW2017\n",
                "\n",
                "select distinct I.ProductKey as productkey,\n",
                "    P.ProductAlternateKey as alternatekey,\n",
                "    P.EnglishProductName as productname\n",
                "from dbo.[FactInternetSales] as I\n",
                "    inner join \n",
                "    dbo.[DimProduct] as P\n",
                "    on I.ProductKey = P.ProductKey\n",
                "order by productkey asc"
            ],
            "metadata": {
                "azdata_cell_guid": "f440a7da-9e86-41f8-97b4-2d5e4db7a7c5",
                "language": "sql"
            },
            "outputs": [
                {
                    "output_type": "display_data",
                    "data": {
                        "text/html": "(158 rows affected)"
                    },
                    "metadata": {}
                },
                {
                    "output_type": "display_data",
                    "data": {
                        "text/html": "Total execution time: 00:00:00.068"
                    },
                    "metadata": {}
                },
                {
                    "output_type": "execute_result",
                    "metadata": {},
                    "execution_count": 24,
                    "data": {
                        "application/vnd.dataresource+json": {
                            "schema": {
                                "fields": [
                                    {
                                        "name": "productkey"
                                    },
                                    {
                                        "name": "alternatekey"
                                    },
                                    {
                                        "name": "productname"
                                    }
                                ]
                            },
                            "data": [
                                {
                                    "0": "214",
                                    "1": "HL-U509-R",
                                    "2": "Sport-100 Helmet, Red"
                                },
                                {
                                    "0": "217",
                                    "1": "HL-U509",
                                    "2": "Sport-100 Helmet, Black"
                                },
                                {
                                    "0": "222",
                                    "1": "HL-U509-B",
                                    "2": "Sport-100 Helmet, Blue"
                                },
                                {
                                    "0": "225",
                                    "1": "CA-1098",
                                    "2": "AWC Logo Cap"
                                },
                                {
                                    "0": "228",
                                    "1": "LJ-0192-S",
                                    "2": "Long-Sleeve Logo Jersey, S"
                                },
                                {
                                    "0": "231",
                                    "1": "LJ-0192-M",
                                    "2": "Long-Sleeve Logo Jersey, M"
                                },
                                {
                                    "0": "234",
                                    "1": "LJ-0192-L",
                                    "2": "Long-Sleeve Logo Jersey, L"
                                },
                                {
                                    "0": "237",
                                    "1": "LJ-0192-X",
                                    "2": "Long-Sleeve Logo Jersey, XL"
                                },
                                {
                                    "0": "310",
                                    "1": "BK-R93R-62",
                                    "2": "Road-150 Red, 62"
                                },
                                {
                                    "0": "311",
                                    "1": "BK-R93R-44",
                                    "2": "Road-150 Red, 44"
                                },
                                {
                                    "0": "312",
                                    "1": "BK-R93R-48",
                                    "2": "Road-150 Red, 48"
                                },
                                {
                                    "0": "313",
                                    "1": "BK-R93R-52",
                                    "2": "Road-150 Red, 52"
                                },
                                {
                                    "0": "314",
                                    "1": "BK-R93R-56",
                                    "2": "Road-150 Red, 56"
                                },
                                {
                                    "0": "320",
                                    "1": "BK-R50R-58",
                                    "2": "Road-650 Red, 58"
                                },
                                {
                                    "0": "321",
                                    "1": "BK-R50R-58",
                                    "2": "Road-650 Red, 58"
                                },
                                {
                                    "0": "322",
                                    "1": "BK-R50R-60",
                                    "2": "Road-650 Red, 60"
                                },
                                {
                                    "0": "323",
                                    "1": "BK-R50R-60",
                                    "2": "Road-650 Red, 60"
                                },
                                {
                                    "0": "324",
                                    "1": "BK-R50R-62",
                                    "2": "Road-650 Red, 62"
                                },
                                {
                                    "0": "325",
                                    "1": "BK-R50R-62",
                                    "2": "Road-650 Red, 62"
                                },
                                {
                                    "0": "326",
                                    "1": "BK-R50R-44",
                                    "2": "Road-650 Red, 44"
                                },
                                {
                                    "0": "327",
                                    "1": "BK-R50R-44",
                                    "2": "Road-650 Red, 44"
                                },
                                {
                                    "0": "328",
                                    "1": "BK-R50R-48",
                                    "2": "Road-650 Red, 48"
                                },
                                {
                                    "0": "329",
                                    "1": "BK-R50R-48",
                                    "2": "Road-650 Red, 48"
                                },
                                {
                                    "0": "330",
                                    "1": "BK-R50R-52",
                                    "2": "Road-650 Red, 52"
                                },
                                {
                                    "0": "331",
                                    "1": "BK-R50R-52",
                                    "2": "Road-650 Red, 52"
                                },
                                {
                                    "0": "332",
                                    "1": "BK-R50B-58",
                                    "2": "Road-650 Black, 58"
                                },
                                {
                                    "0": "333",
                                    "1": "BK-R50B-58",
                                    "2": "Road-650 Black, 58"
                                },
                                {
                                    "0": "334",
                                    "1": "BK-R50B-60",
                                    "2": "Road-650 Black, 60"
                                },
                                {
                                    "0": "335",
                                    "1": "BK-R50B-60",
                                    "2": "Road-650 Black, 60"
                                },
                                {
                                    "0": "336",
                                    "1": "BK-R50B-62",
                                    "2": "Road-650 Black, 62"
                                },
                                {
                                    "0": "337",
                                    "1": "BK-R50B-62",
                                    "2": "Road-650 Black, 62"
                                },
                                {
                                    "0": "338",
                                    "1": "BK-R50B-44",
                                    "2": "Road-650 Black, 44"
                                },
                                {
                                    "0": "339",
                                    "1": "BK-R50B-44",
                                    "2": "Road-650 Black, 44"
                                },
                                {
                                    "0": "340",
                                    "1": "BK-R50B-48",
                                    "2": "Road-650 Black, 48"
                                },
                                {
                                    "0": "341",
                                    "1": "BK-R50B-48",
                                    "2": "Road-650 Black, 48"
                                },
                                {
                                    "0": "342",
                                    "1": "BK-R50B-52",
                                    "2": "Road-650 Black, 52"
                                },
                                {
                                    "0": "343",
                                    "1": "BK-R50B-52",
                                    "2": "Road-650 Black, 52"
                                },
                                {
                                    "0": "344",
                                    "1": "BK-M82S-38",
                                    "2": "Mountain-100 Silver, 38"
                                },
                                {
                                    "0": "345",
                                    "1": "BK-M82S-42",
                                    "2": "Mountain-100 Silver, 42"
                                },
                                {
                                    "0": "346",
                                    "1": "BK-M82S-44",
                                    "2": "Mountain-100 Silver, 44"
                                },
                                {
                                    "0": "347",
                                    "1": "BK-M82S-48",
                                    "2": "Mountain-100 Silver, 48"
                                },
                                {
                                    "0": "348",
                                    "1": "BK-M82B-38",
                                    "2": "Mountain-100 Black, 38"
                                },
                                {
                                    "0": "349",
                                    "1": "BK-M82B-42",
                                    "2": "Mountain-100 Black, 42"
                                },
                                {
                                    "0": "350",
                                    "1": "BK-M82B-44",
                                    "2": "Mountain-100 Black, 44"
                                },
                                {
                                    "0": "351",
                                    "1": "BK-M82B-48",
                                    "2": "Mountain-100 Black, 48"
                                },
                                {
                                    "0": "352",
                                    "1": "BK-M68S-38",
                                    "2": "Mountain-200 Silver, 38"
                                },
                                {
                                    "0": "353",
                                    "1": "BK-M68S-38",
                                    "2": "Mountain-200 Silver, 38"
                                },
                                {
                                    "0": "354",
                                    "1": "BK-M68S-42",
                                    "2": "Mountain-200 Silver, 42"
                                },
                                {
                                    "0": "355",
                                    "1": "BK-M68S-42",
                                    "2": "Mountain-200 Silver, 42"
                                },
                                {
                                    "0": "356",
                                    "1": "BK-M68S-46",
                                    "2": "Mountain-200 Silver, 46"
                                },
                                {
                                    "0": "357",
                                    "1": "BK-M68S-46",
                                    "2": "Mountain-200 Silver, 46"
                                },
                                {
                                    "0": "358",
                                    "1": "BK-M68B-38",
                                    "2": "Mountain-200 Black, 38"
                                },
                                {
                                    "0": "359",
                                    "1": "BK-M68B-38",
                                    "2": "Mountain-200 Black, 38"
                                },
                                {
                                    "0": "360",
                                    "1": "BK-M68B-42",
                                    "2": "Mountain-200 Black, 42"
                                },
                                {
                                    "0": "361",
                                    "1": "BK-M68B-42",
                                    "2": "Mountain-200 Black, 42"
                                },
                                {
                                    "0": "362",
                                    "1": "BK-M68B-46",
                                    "2": "Mountain-200 Black, 46"
                                },
                                {
                                    "0": "363",
                                    "1": "BK-M68B-46",
                                    "2": "Mountain-200 Black, 46"
                                },
                                {
                                    "0": "368",
                                    "1": "BK-R89R-44",
                                    "2": "Road-250 Red, 44"
                                },
                                {
                                    "0": "369",
                                    "1": "BK-R89R-48",
                                    "2": "Road-250 Red, 48"
                                },
                                {
                                    "0": "370",
                                    "1": "BK-R89R-52",
                                    "2": "Road-250 Red, 52"
                                },
                                {
                                    "0": "371",
                                    "1": "BK-R89R-58",
                                    "2": "Road-250 Red, 58"
                                },
                                {
                                    "0": "372",
                                    "1": "BK-R89R-58",
                                    "2": "Road-250 Red, 58"
                                },
                                {
                                    "0": "373",
                                    "1": "BK-R89B-44",
                                    "2": "Road-250 Black, 44"
                                },
                                {
                                    "0": "374",
                                    "1": "BK-R89B-44",
                                    "2": "Road-250 Black, 44"
                                },
                                {
                                    "0": "375",
                                    "1": "BK-R89B-48",
                                    "2": "Road-250 Black, 48"
                                },
                                {
                                    "0": "376",
                                    "1": "BK-R89B-48",
                                    "2": "Road-250 Black, 48"
                                },
                                {
                                    "0": "377",
                                    "1": "BK-R89B-52",
                                    "2": "Road-250 Black, 52"
                                },
                                {
                                    "0": "378",
                                    "1": "BK-R89B-52",
                                    "2": "Road-250 Black, 52"
                                },
                                {
                                    "0": "379",
                                    "1": "BK-R89B-58",
                                    "2": "Road-250 Black, 58"
                                },
                                {
                                    "0": "380",
                                    "1": "BK-R89B-58",
                                    "2": "Road-250 Black, 58"
                                },
                                {
                                    "0": "381",
                                    "1": "BK-R64Y-38",
                                    "2": "Road-550-W Yellow, 38"
                                },
                                {
                                    "0": "382",
                                    "1": "BK-R64Y-38",
                                    "2": "Road-550-W Yellow, 38"
                                },
                                {
                                    "0": "383",
                                    "1": "BK-R64Y-40",
                                    "2": "Road-550-W Yellow, 40"
                                },
                                {
                                    "0": "384",
                                    "1": "BK-R64Y-40",
                                    "2": "Road-550-W Yellow, 40"
                                },
                                {
                                    "0": "385",
                                    "1": "BK-R64Y-42",
                                    "2": "Road-550-W Yellow, 42"
                                },
                                {
                                    "0": "386",
                                    "1": "BK-R64Y-42",
                                    "2": "Road-550-W Yellow, 42"
                                },
                                {
                                    "0": "387",
                                    "1": "BK-R64Y-44",
                                    "2": "Road-550-W Yellow, 44"
                                },
                                {
                                    "0": "388",
                                    "1": "BK-R64Y-44",
                                    "2": "Road-550-W Yellow, 44"
                                },
                                {
                                    "0": "389",
                                    "1": "BK-R64Y-48",
                                    "2": "Road-550-W Yellow, 48"
                                },
                                {
                                    "0": "390",
                                    "1": "BK-R64Y-48",
                                    "2": "Road-550-W Yellow, 48"
                                },
                                {
                                    "0": "463",
                                    "1": "GL-H102-S",
                                    "2": "Half-Finger Gloves, S"
                                },
                                {
                                    "0": "465",
                                    "1": "GL-H102-M",
                                    "2": "Half-Finger Gloves, M"
                                },
                                {
                                    "0": "467",
                                    "1": "GL-H102-L",
                                    "2": "Half-Finger Gloves, L"
                                },
                                {
                                    "0": "471",
                                    "1": "VE-C304-S",
                                    "2": "Classic Vest, S"
                                },
                                {
                                    "0": "472",
                                    "1": "VE-C304-M",
                                    "2": "Classic Vest, M"
                                },
                                {
                                    "0": "473",
                                    "1": "VE-C304-L",
                                    "2": "Classic Vest, L"
                                },
                                {
                                    "0": "474",
                                    "1": "SH-W890-S",
                                    "2": "Women's Mountain Shorts, S"
                                },
                                {
                                    "0": "475",
                                    "1": "SH-W890-M",
                                    "2": "Women's Mountain Shorts, M"
                                },
                                {
                                    "0": "476",
                                    "1": "SH-W890-L",
                                    "2": "Women's Mountain Shorts, L"
                                },
                                {
                                    "0": "477",
                                    "1": "WB-H098",
                                    "2": "Water Bottle - 30 oz."
                                },
                                {
                                    "0": "478",
                                    "1": "BC-M005",
                                    "2": "Mountain Bottle Cage"
                                },
                                {
                                    "0": "479",
                                    "1": "BC-R205",
                                    "2": "Road Bottle Cage"
                                },
                                {
                                    "0": "480",
                                    "1": "PK-7098",
                                    "2": "Patch Kit/8 Patches"
                                },
                                {
                                    "0": "481",
                                    "1": "SO-R809-M",
                                    "2": "Racing Socks, M"
                                },
                                {
                                    "0": "482",
                                    "1": "SO-R809-L",
                                    "2": "Racing Socks, L"
                                },
                                {
                                    "0": "483",
                                    "1": "RA-H123",
                                    "2": "Hitch Rack - 4-Bike"
                                },
                                {
                                    "0": "484",
                                    "1": "CL-9009",
                                    "2": "Bike Wash - Dissolver"
                                },
                                {
                                    "0": "485",
                                    "1": "FE-6654",
                                    "2": "Fender Set - Mountain"
                                },
                                {
                                    "0": "486",
                                    "1": "ST-1401",
                                    "2": "All-Purpose Bike Stand"
                                },
                                {
                                    "0": "487",
                                    "1": "HY-1023-70",
                                    "2": "Hydration Pack - 70 oz."
                                },
                                {
                                    "0": "488",
                                    "1": "SJ-0194-S",
                                    "2": "Short-Sleeve Classic Jersey, S"
                                },
                                {
                                    "0": "489",
                                    "1": "SJ-0194-M",
                                    "2": "Short-Sleeve Classic Jersey, M"
                                },
                                {
                                    "0": "490",
                                    "1": "SJ-0194-L",
                                    "2": "Short-Sleeve Classic Jersey, L"
                                },
                                {
                                    "0": "491",
                                    "1": "SJ-0194-X",
                                    "2": "Short-Sleeve Classic Jersey, XL"
                                },
                                {
                                    "0": "528",
                                    "1": "TT-M928",
                                    "2": "Mountain Tire Tube"
                                },
                                {
                                    "0": "529",
                                    "1": "TT-R982",
                                    "2": "Road Tire Tube"
                                },
                                {
                                    "0": "530",
                                    "1": "TT-T092",
                                    "2": "Touring Tire Tube"
                                },
                                {
                                    "0": "535",
                                    "1": "TI-M267",
                                    "2": "LL Mountain Tire"
                                },
                                {
                                    "0": "536",
                                    "1": "TI-M602",
                                    "2": "ML Mountain Tire"
                                },
                                {
                                    "0": "537",
                                    "1": "TI-M823",
                                    "2": "HL Mountain Tire"
                                },
                                {
                                    "0": "538",
                                    "1": "TI-R092",
                                    "2": "LL Road Tire"
                                },
                                {
                                    "0": "539",
                                    "1": "TI-R628",
                                    "2": "ML Road Tire"
                                },
                                {
                                    "0": "540",
                                    "1": "TI-R982",
                                    "2": "HL Road Tire"
                                },
                                {
                                    "0": "541",
                                    "1": "TI-T723",
                                    "2": "Touring Tire"
                                },
                                {
                                    "0": "560",
                                    "1": "BK-T44U-60",
                                    "2": "Touring-2000 Blue, 60"
                                },
                                {
                                    "0": "561",
                                    "1": "BK-T79Y-46",
                                    "2": "Touring-1000 Yellow, 46"
                                },
                                {
                                    "0": "562",
                                    "1": "BK-T79Y-50",
                                    "2": "Touring-1000 Yellow, 50"
                                },
                                {
                                    "0": "563",
                                    "1": "BK-T79Y-54",
                                    "2": "Touring-1000 Yellow, 54"
                                },
                                {
                                    "0": "564",
                                    "1": "BK-T79Y-60",
                                    "2": "Touring-1000 Yellow, 60"
                                },
                                {
                                    "0": "565",
                                    "1": "BK-T18U-54",
                                    "2": "Touring-3000 Blue, 54"
                                },
                                {
                                    "0": "566",
                                    "1": "BK-T18U-58",
                                    "2": "Touring-3000 Blue, 58"
                                },
                                {
                                    "0": "567",
                                    "1": "BK-T18U-62",
                                    "2": "Touring-3000 Blue, 62"
                                },
                                {
                                    "0": "568",
                                    "1": "BK-T18Y-44",
                                    "2": "Touring-3000 Yellow, 44"
                                },
                                {
                                    "0": "569",
                                    "1": "BK-T18Y-50",
                                    "2": "Touring-3000 Yellow, 50"
                                },
                                {
                                    "0": "570",
                                    "1": "BK-T18Y-54",
                                    "2": "Touring-3000 Yellow, 54"
                                },
                                {
                                    "0": "571",
                                    "1": "BK-T18Y-58",
                                    "2": "Touring-3000 Yellow, 58"
                                },
                                {
                                    "0": "572",
                                    "1": "BK-T18Y-62",
                                    "2": "Touring-3000 Yellow, 62"
                                },
                                {
                                    "0": "573",
                                    "1": "BK-T79U-46",
                                    "2": "Touring-1000 Blue, 46"
                                },
                                {
                                    "0": "574",
                                    "1": "BK-T79U-50",
                                    "2": "Touring-1000 Blue, 50"
                                },
                                {
                                    "0": "575",
                                    "1": "BK-T79U-54",
                                    "2": "Touring-1000 Blue, 54"
                                },
                                {
                                    "0": "576",
                                    "1": "BK-T79U-60",
                                    "2": "Touring-1000 Blue, 60"
                                },
                                {
                                    "0": "577",
                                    "1": "BK-T44U-46",
                                    "2": "Touring-2000 Blue, 46"
                                },
                                {
                                    "0": "578",
                                    "1": "BK-T44U-50",
                                    "2": "Touring-2000 Blue, 50"
                                },
                                {
                                    "0": "579",
                                    "1": "BK-T44U-54",
                                    "2": "Touring-2000 Blue, 54"
                                },
                                {
                                    "0": "580",
                                    "1": "BK-R79Y-40",
                                    "2": "Road-350-W Yellow, 40"
                                },
                                {
                                    "0": "581",
                                    "1": "BK-R79Y-42",
                                    "2": "Road-350-W Yellow, 42"
                                },
                                {
                                    "0": "582",
                                    "1": "BK-R79Y-44",
                                    "2": "Road-350-W Yellow, 44"
                                },
                                {
                                    "0": "583",
                                    "1": "BK-R79Y-48",
                                    "2": "Road-350-W Yellow, 48"
                                },
                                {
                                    "0": "584",
                                    "1": "BK-R19B-58",
                                    "2": "Road-750 Black, 58"
                                },
                                {
                                    "0": "585",
                                    "1": "BK-T18U-44",
                                    "2": "Touring-3000 Blue, 44"
                                },
                                {
                                    "0": "586",
                                    "1": "BK-T18U-50",
                                    "2": "Touring-3000 Blue, 50"
                                },
                                {
                                    "0": "587",
                                    "1": "BK-M38S-38",
                                    "2": "Mountain-400-W Silver, 38"
                                },
                                {
                                    "0": "588",
                                    "1": "BK-M38S-40",
                                    "2": "Mountain-400-W Silver, 40"
                                },
                                {
                                    "0": "589",
                                    "1": "BK-M38S-42",
                                    "2": "Mountain-400-W Silver, 42"
                                },
                                {
                                    "0": "590",
                                    "1": "BK-M38S-46",
                                    "2": "Mountain-400-W Silver, 46"
                                },
                                {
                                    "0": "591",
                                    "1": "BK-M18S-40",
                                    "2": "Mountain-500 Silver, 40"
                                },
                                {
                                    "0": "592",
                                    "1": "BK-M18S-42",
                                    "2": "Mountain-500 Silver, 42"
                                },
                                {
                                    "0": "593",
                                    "1": "BK-M18S-44",
                                    "2": "Mountain-500 Silver, 44"
                                },
                                {
                                    "0": "594",
                                    "1": "BK-M18S-48",
                                    "2": "Mountain-500 Silver, 48"
                                },
                                {
                                    "0": "595",
                                    "1": "BK-M18S-52",
                                    "2": "Mountain-500 Silver, 52"
                                },
                                {
                                    "0": "596",
                                    "1": "BK-M18B-40",
                                    "2": "Mountain-500 Black, 40"
                                },
                                {
                                    "0": "597",
                                    "1": "BK-M18B-42",
                                    "2": "Mountain-500 Black, 42"
                                },
                                {
                                    "0": "598",
                                    "1": "BK-M18B-44",
                                    "2": "Mountain-500 Black, 44"
                                },
                                {
                                    "0": "599",
                                    "1": "BK-M18B-48",
                                    "2": "Mountain-500 Black, 48"
                                },
                                {
                                    "0": "600",
                                    "1": "BK-M18B-52",
                                    "2": "Mountain-500 Black, 52"
                                },
                                {
                                    "0": "604",
                                    "1": "BK-R19B-44",
                                    "2": "Road-750 Black, 44"
                                },
                                {
                                    "0": "605",
                                    "1": "BK-R19B-48",
                                    "2": "Road-750 Black, 48"
                                },
                                {
                                    "0": "606",
                                    "1": "BK-R19B-52",
                                    "2": "Road-750 Black, 52"
                                }
                            ]
                        },
                        "text/html": [
                            "<table>",
                            "<tr><th>productkey</th><th>alternatekey</th><th>productname</th></tr>",
                            "<tr><td>214</td><td>HL-U509-R</td><td>Sport-100 Helmet, Red</td></tr>",
                            "<tr><td>217</td><td>HL-U509</td><td>Sport-100 Helmet, Black</td></tr>",
                            "<tr><td>222</td><td>HL-U509-B</td><td>Sport-100 Helmet, Blue</td></tr>",
                            "<tr><td>225</td><td>CA-1098</td><td>AWC Logo Cap</td></tr>",
                            "<tr><td>228</td><td>LJ-0192-S</td><td>Long-Sleeve Logo Jersey, S</td></tr>",
                            "<tr><td>231</td><td>LJ-0192-M</td><td>Long-Sleeve Logo Jersey, M</td></tr>",
                            "<tr><td>234</td><td>LJ-0192-L</td><td>Long-Sleeve Logo Jersey, L</td></tr>",
                            "<tr><td>237</td><td>LJ-0192-X</td><td>Long-Sleeve Logo Jersey, XL</td></tr>",
                            "<tr><td>310</td><td>BK-R93R-62</td><td>Road-150 Red, 62</td></tr>",
                            "<tr><td>311</td><td>BK-R93R-44</td><td>Road-150 Red, 44</td></tr>",
                            "<tr><td>312</td><td>BK-R93R-48</td><td>Road-150 Red, 48</td></tr>",
                            "<tr><td>313</td><td>BK-R93R-52</td><td>Road-150 Red, 52</td></tr>",
                            "<tr><td>314</td><td>BK-R93R-56</td><td>Road-150 Red, 56</td></tr>",
                            "<tr><td>320</td><td>BK-R50R-58</td><td>Road-650 Red, 58</td></tr>",
                            "<tr><td>321</td><td>BK-R50R-58</td><td>Road-650 Red, 58</td></tr>",
                            "<tr><td>322</td><td>BK-R50R-60</td><td>Road-650 Red, 60</td></tr>",
                            "<tr><td>323</td><td>BK-R50R-60</td><td>Road-650 Red, 60</td></tr>",
                            "<tr><td>324</td><td>BK-R50R-62</td><td>Road-650 Red, 62</td></tr>",
                            "<tr><td>325</td><td>BK-R50R-62</td><td>Road-650 Red, 62</td></tr>",
                            "<tr><td>326</td><td>BK-R50R-44</td><td>Road-650 Red, 44</td></tr>",
                            "<tr><td>327</td><td>BK-R50R-44</td><td>Road-650 Red, 44</td></tr>",
                            "<tr><td>328</td><td>BK-R50R-48</td><td>Road-650 Red, 48</td></tr>",
                            "<tr><td>329</td><td>BK-R50R-48</td><td>Road-650 Red, 48</td></tr>",
                            "<tr><td>330</td><td>BK-R50R-52</td><td>Road-650 Red, 52</td></tr>",
                            "<tr><td>331</td><td>BK-R50R-52</td><td>Road-650 Red, 52</td></tr>",
                            "<tr><td>332</td><td>BK-R50B-58</td><td>Road-650 Black, 58</td></tr>",
                            "<tr><td>333</td><td>BK-R50B-58</td><td>Road-650 Black, 58</td></tr>",
                            "<tr><td>334</td><td>BK-R50B-60</td><td>Road-650 Black, 60</td></tr>",
                            "<tr><td>335</td><td>BK-R50B-60</td><td>Road-650 Black, 60</td></tr>",
                            "<tr><td>336</td><td>BK-R50B-62</td><td>Road-650 Black, 62</td></tr>",
                            "<tr><td>337</td><td>BK-R50B-62</td><td>Road-650 Black, 62</td></tr>",
                            "<tr><td>338</td><td>BK-R50B-44</td><td>Road-650 Black, 44</td></tr>",
                            "<tr><td>339</td><td>BK-R50B-44</td><td>Road-650 Black, 44</td></tr>",
                            "<tr><td>340</td><td>BK-R50B-48</td><td>Road-650 Black, 48</td></tr>",
                            "<tr><td>341</td><td>BK-R50B-48</td><td>Road-650 Black, 48</td></tr>",
                            "<tr><td>342</td><td>BK-R50B-52</td><td>Road-650 Black, 52</td></tr>",
                            "<tr><td>343</td><td>BK-R50B-52</td><td>Road-650 Black, 52</td></tr>",
                            "<tr><td>344</td><td>BK-M82S-38</td><td>Mountain-100 Silver, 38</td></tr>",
                            "<tr><td>345</td><td>BK-M82S-42</td><td>Mountain-100 Silver, 42</td></tr>",
                            "<tr><td>346</td><td>BK-M82S-44</td><td>Mountain-100 Silver, 44</td></tr>",
                            "<tr><td>347</td><td>BK-M82S-48</td><td>Mountain-100 Silver, 48</td></tr>",
                            "<tr><td>348</td><td>BK-M82B-38</td><td>Mountain-100 Black, 38</td></tr>",
                            "<tr><td>349</td><td>BK-M82B-42</td><td>Mountain-100 Black, 42</td></tr>",
                            "<tr><td>350</td><td>BK-M82B-44</td><td>Mountain-100 Black, 44</td></tr>",
                            "<tr><td>351</td><td>BK-M82B-48</td><td>Mountain-100 Black, 48</td></tr>",
                            "<tr><td>352</td><td>BK-M68S-38</td><td>Mountain-200 Silver, 38</td></tr>",
                            "<tr><td>353</td><td>BK-M68S-38</td><td>Mountain-200 Silver, 38</td></tr>",
                            "<tr><td>354</td><td>BK-M68S-42</td><td>Mountain-200 Silver, 42</td></tr>",
                            "<tr><td>355</td><td>BK-M68S-42</td><td>Mountain-200 Silver, 42</td></tr>",
                            "<tr><td>356</td><td>BK-M68S-46</td><td>Mountain-200 Silver, 46</td></tr>",
                            "<tr><td>357</td><td>BK-M68S-46</td><td>Mountain-200 Silver, 46</td></tr>",
                            "<tr><td>358</td><td>BK-M68B-38</td><td>Mountain-200 Black, 38</td></tr>",
                            "<tr><td>359</td><td>BK-M68B-38</td><td>Mountain-200 Black, 38</td></tr>",
                            "<tr><td>360</td><td>BK-M68B-42</td><td>Mountain-200 Black, 42</td></tr>",
                            "<tr><td>361</td><td>BK-M68B-42</td><td>Mountain-200 Black, 42</td></tr>",
                            "<tr><td>362</td><td>BK-M68B-46</td><td>Mountain-200 Black, 46</td></tr>",
                            "<tr><td>363</td><td>BK-M68B-46</td><td>Mountain-200 Black, 46</td></tr>",
                            "<tr><td>368</td><td>BK-R89R-44</td><td>Road-250 Red, 44</td></tr>",
                            "<tr><td>369</td><td>BK-R89R-48</td><td>Road-250 Red, 48</td></tr>",
                            "<tr><td>370</td><td>BK-R89R-52</td><td>Road-250 Red, 52</td></tr>",
                            "<tr><td>371</td><td>BK-R89R-58</td><td>Road-250 Red, 58</td></tr>",
                            "<tr><td>372</td><td>BK-R89R-58</td><td>Road-250 Red, 58</td></tr>",
                            "<tr><td>373</td><td>BK-R89B-44</td><td>Road-250 Black, 44</td></tr>",
                            "<tr><td>374</td><td>BK-R89B-44</td><td>Road-250 Black, 44</td></tr>",
                            "<tr><td>375</td><td>BK-R89B-48</td><td>Road-250 Black, 48</td></tr>",
                            "<tr><td>376</td><td>BK-R89B-48</td><td>Road-250 Black, 48</td></tr>",
                            "<tr><td>377</td><td>BK-R89B-52</td><td>Road-250 Black, 52</td></tr>",
                            "<tr><td>378</td><td>BK-R89B-52</td><td>Road-250 Black, 52</td></tr>",
                            "<tr><td>379</td><td>BK-R89B-58</td><td>Road-250 Black, 58</td></tr>",
                            "<tr><td>380</td><td>BK-R89B-58</td><td>Road-250 Black, 58</td></tr>",
                            "<tr><td>381</td><td>BK-R64Y-38</td><td>Road-550-W Yellow, 38</td></tr>",
                            "<tr><td>382</td><td>BK-R64Y-38</td><td>Road-550-W Yellow, 38</td></tr>",
                            "<tr><td>383</td><td>BK-R64Y-40</td><td>Road-550-W Yellow, 40</td></tr>",
                            "<tr><td>384</td><td>BK-R64Y-40</td><td>Road-550-W Yellow, 40</td></tr>",
                            "<tr><td>385</td><td>BK-R64Y-42</td><td>Road-550-W Yellow, 42</td></tr>",
                            "<tr><td>386</td><td>BK-R64Y-42</td><td>Road-550-W Yellow, 42</td></tr>",
                            "<tr><td>387</td><td>BK-R64Y-44</td><td>Road-550-W Yellow, 44</td></tr>",
                            "<tr><td>388</td><td>BK-R64Y-44</td><td>Road-550-W Yellow, 44</td></tr>",
                            "<tr><td>389</td><td>BK-R64Y-48</td><td>Road-550-W Yellow, 48</td></tr>",
                            "<tr><td>390</td><td>BK-R64Y-48</td><td>Road-550-W Yellow, 48</td></tr>",
                            "<tr><td>463</td><td>GL-H102-S</td><td>Half-Finger Gloves, S</td></tr>",
                            "<tr><td>465</td><td>GL-H102-M</td><td>Half-Finger Gloves, M</td></tr>",
                            "<tr><td>467</td><td>GL-H102-L</td><td>Half-Finger Gloves, L</td></tr>",
                            "<tr><td>471</td><td>VE-C304-S</td><td>Classic Vest, S</td></tr>",
                            "<tr><td>472</td><td>VE-C304-M</td><td>Classic Vest, M</td></tr>",
                            "<tr><td>473</td><td>VE-C304-L</td><td>Classic Vest, L</td></tr>",
                            "<tr><td>474</td><td>SH-W890-S</td><td>Women's Mountain Shorts, S</td></tr>",
                            "<tr><td>475</td><td>SH-W890-M</td><td>Women's Mountain Shorts, M</td></tr>",
                            "<tr><td>476</td><td>SH-W890-L</td><td>Women's Mountain Shorts, L</td></tr>",
                            "<tr><td>477</td><td>WB-H098</td><td>Water Bottle - 30 oz.</td></tr>",
                            "<tr><td>478</td><td>BC-M005</td><td>Mountain Bottle Cage</td></tr>",
                            "<tr><td>479</td><td>BC-R205</td><td>Road Bottle Cage</td></tr>",
                            "<tr><td>480</td><td>PK-7098</td><td>Patch Kit/8 Patches</td></tr>",
                            "<tr><td>481</td><td>SO-R809-M</td><td>Racing Socks, M</td></tr>",
                            "<tr><td>482</td><td>SO-R809-L</td><td>Racing Socks, L</td></tr>",
                            "<tr><td>483</td><td>RA-H123</td><td>Hitch Rack - 4-Bike</td></tr>",
                            "<tr><td>484</td><td>CL-9009</td><td>Bike Wash - Dissolver</td></tr>",
                            "<tr><td>485</td><td>FE-6654</td><td>Fender Set - Mountain</td></tr>",
                            "<tr><td>486</td><td>ST-1401</td><td>All-Purpose Bike Stand</td></tr>",
                            "<tr><td>487</td><td>HY-1023-70</td><td>Hydration Pack - 70 oz.</td></tr>",
                            "<tr><td>488</td><td>SJ-0194-S</td><td>Short-Sleeve Classic Jersey, S</td></tr>",
                            "<tr><td>489</td><td>SJ-0194-M</td><td>Short-Sleeve Classic Jersey, M</td></tr>",
                            "<tr><td>490</td><td>SJ-0194-L</td><td>Short-Sleeve Classic Jersey, L</td></tr>",
                            "<tr><td>491</td><td>SJ-0194-X</td><td>Short-Sleeve Classic Jersey, XL</td></tr>",
                            "<tr><td>528</td><td>TT-M928</td><td>Mountain Tire Tube</td></tr>",
                            "<tr><td>529</td><td>TT-R982</td><td>Road Tire Tube</td></tr>",
                            "<tr><td>530</td><td>TT-T092</td><td>Touring Tire Tube</td></tr>",
                            "<tr><td>535</td><td>TI-M267</td><td>LL Mountain Tire</td></tr>",
                            "<tr><td>536</td><td>TI-M602</td><td>ML Mountain Tire</td></tr>",
                            "<tr><td>537</td><td>TI-M823</td><td>HL Mountain Tire</td></tr>",
                            "<tr><td>538</td><td>TI-R092</td><td>LL Road Tire</td></tr>",
                            "<tr><td>539</td><td>TI-R628</td><td>ML Road Tire</td></tr>",
                            "<tr><td>540</td><td>TI-R982</td><td>HL Road Tire</td></tr>",
                            "<tr><td>541</td><td>TI-T723</td><td>Touring Tire</td></tr>",
                            "<tr><td>560</td><td>BK-T44U-60</td><td>Touring-2000 Blue, 60</td></tr>",
                            "<tr><td>561</td><td>BK-T79Y-46</td><td>Touring-1000 Yellow, 46</td></tr>",
                            "<tr><td>562</td><td>BK-T79Y-50</td><td>Touring-1000 Yellow, 50</td></tr>",
                            "<tr><td>563</td><td>BK-T79Y-54</td><td>Touring-1000 Yellow, 54</td></tr>",
                            "<tr><td>564</td><td>BK-T79Y-60</td><td>Touring-1000 Yellow, 60</td></tr>",
                            "<tr><td>565</td><td>BK-T18U-54</td><td>Touring-3000 Blue, 54</td></tr>",
                            "<tr><td>566</td><td>BK-T18U-58</td><td>Touring-3000 Blue, 58</td></tr>",
                            "<tr><td>567</td><td>BK-T18U-62</td><td>Touring-3000 Blue, 62</td></tr>",
                            "<tr><td>568</td><td>BK-T18Y-44</td><td>Touring-3000 Yellow, 44</td></tr>",
                            "<tr><td>569</td><td>BK-T18Y-50</td><td>Touring-3000 Yellow, 50</td></tr>",
                            "<tr><td>570</td><td>BK-T18Y-54</td><td>Touring-3000 Yellow, 54</td></tr>",
                            "<tr><td>571</td><td>BK-T18Y-58</td><td>Touring-3000 Yellow, 58</td></tr>",
                            "<tr><td>572</td><td>BK-T18Y-62</td><td>Touring-3000 Yellow, 62</td></tr>",
                            "<tr><td>573</td><td>BK-T79U-46</td><td>Touring-1000 Blue, 46</td></tr>",
                            "<tr><td>574</td><td>BK-T79U-50</td><td>Touring-1000 Blue, 50</td></tr>",
                            "<tr><td>575</td><td>BK-T79U-54</td><td>Touring-1000 Blue, 54</td></tr>",
                            "<tr><td>576</td><td>BK-T79U-60</td><td>Touring-1000 Blue, 60</td></tr>",
                            "<tr><td>577</td><td>BK-T44U-46</td><td>Touring-2000 Blue, 46</td></tr>",
                            "<tr><td>578</td><td>BK-T44U-50</td><td>Touring-2000 Blue, 50</td></tr>",
                            "<tr><td>579</td><td>BK-T44U-54</td><td>Touring-2000 Blue, 54</td></tr>",
                            "<tr><td>580</td><td>BK-R79Y-40</td><td>Road-350-W Yellow, 40</td></tr>",
                            "<tr><td>581</td><td>BK-R79Y-42</td><td>Road-350-W Yellow, 42</td></tr>",
                            "<tr><td>582</td><td>BK-R79Y-44</td><td>Road-350-W Yellow, 44</td></tr>",
                            "<tr><td>583</td><td>BK-R79Y-48</td><td>Road-350-W Yellow, 48</td></tr>",
                            "<tr><td>584</td><td>BK-R19B-58</td><td>Road-750 Black, 58</td></tr>",
                            "<tr><td>585</td><td>BK-T18U-44</td><td>Touring-3000 Blue, 44</td></tr>",
                            "<tr><td>586</td><td>BK-T18U-50</td><td>Touring-3000 Blue, 50</td></tr>",
                            "<tr><td>587</td><td>BK-M38S-38</td><td>Mountain-400-W Silver, 38</td></tr>",
                            "<tr><td>588</td><td>BK-M38S-40</td><td>Mountain-400-W Silver, 40</td></tr>",
                            "<tr><td>589</td><td>BK-M38S-42</td><td>Mountain-400-W Silver, 42</td></tr>",
                            "<tr><td>590</td><td>BK-M38S-46</td><td>Mountain-400-W Silver, 46</td></tr>",
                            "<tr><td>591</td><td>BK-M18S-40</td><td>Mountain-500 Silver, 40</td></tr>",
                            "<tr><td>592</td><td>BK-M18S-42</td><td>Mountain-500 Silver, 42</td></tr>",
                            "<tr><td>593</td><td>BK-M18S-44</td><td>Mountain-500 Silver, 44</td></tr>",
                            "<tr><td>594</td><td>BK-M18S-48</td><td>Mountain-500 Silver, 48</td></tr>",
                            "<tr><td>595</td><td>BK-M18S-52</td><td>Mountain-500 Silver, 52</td></tr>",
                            "<tr><td>596</td><td>BK-M18B-40</td><td>Mountain-500 Black, 40</td></tr>",
                            "<tr><td>597</td><td>BK-M18B-42</td><td>Mountain-500 Black, 42</td></tr>",
                            "<tr><td>598</td><td>BK-M18B-44</td><td>Mountain-500 Black, 44</td></tr>",
                            "<tr><td>599</td><td>BK-M18B-48</td><td>Mountain-500 Black, 48</td></tr>",
                            "<tr><td>600</td><td>BK-M18B-52</td><td>Mountain-500 Black, 52</td></tr>",
                            "<tr><td>604</td><td>BK-R19B-44</td><td>Road-750 Black, 44</td></tr>",
                            "<tr><td>605</td><td>BK-R19B-48</td><td>Road-750 Black, 48</td></tr>",
                            "<tr><td>606</td><td>BK-R19B-52</td><td>Road-750 Black, 52</td></tr>",
                            "</table>"
                        ]
                    }
                }
            ],
            "execution_count": 24
        },
        {
            "cell_type": "markdown",
            "source": [
                "Northwinds2020TSQL7"
            ],
            "metadata": {
                "azdata_cell_guid": "78652c8d-b59e-4773-adc7-05115d0f9859"
            },
            "attachments": {}
        },
        {
            "cell_type": "markdown",
            "source": [
                "WideWorldImporters"
            ],
            "metadata": {
                "azdata_cell_guid": "8fb914e0-146d-4b05-93c0-360cb3346157"
            },
            "attachments": {}
        },
        {
            "cell_type": "markdown",
            "source": [
                "WideWorldImportersDW"
            ],
            "metadata": {
                "azdata_cell_guid": "f1525199-d45a-4800-85ee-c662f6eedd73"
            },
            "attachments": {}
        },
        {
            "cell_type": "markdown",
            "source": [
                "PrestigeCars"
            ],
            "metadata": {
                "azdata_cell_guid": "0af72b73-a46d-48e8-8c42-ad978830b171"
            },
            "attachments": {}
        },
        {
            "cell_type": "code",
            "source": [
                ""
            ],
            "metadata": {
                "azdata_cell_guid": "5a46ce26-dbc8-4338-b8e1-82f0656ece28",
                "language": "sql"
            },
            "outputs": [],
            "execution_count": null
        }
    ]
}